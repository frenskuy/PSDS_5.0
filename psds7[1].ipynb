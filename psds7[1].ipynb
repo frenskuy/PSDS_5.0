{
  "cells": [
    {
      "cell_type": "code",
      "execution_count": null,
      "metadata": {
        "colab": {
          "base_uri": "https://localhost:8080/"
        },
        "id": "2SrEhJYoIAMP",
        "outputId": "fa2c616f-76cb-40d1-b11a-29e90b7dc710"
      },
      "outputs": [
        {
          "name": "stdout",
          "output_type": "stream",
          "text": [
            "penjumlahan\n",
            "19\n",
            "pengurangan\n",
            "3\n",
            "perkalian\n",
            "18\n",
            "pembagian\n",
            "0.5\n",
            "modulus\n",
            "1\n",
            "perpangkatan\n",
            "729\n",
            "pembagian pembulatan flooring\n",
            "5\n"
          ]
        }
      ],
      "source": [
        "##Operator aritmatika\n",
        "print('penjumlahan')\n",
        "print(3+16)\n",
        "print('pengurangan')\n",
        "print(6-3)\n",
        "print('perkalian')\n",
        "print(3*6)\n",
        "print('pembagian')\n",
        "print(3/6)\n",
        "print('modulus')\n",
        "print(16%3)\n",
        "print('perpangkatan')\n",
        "print(3**6)\n",
        "print('pembagian pembulatan flooring')\n",
        "print(16//3)"
      ]
    },
    {
      "cell_type": "code",
      "execution_count": null,
      "metadata": {
        "colab": {
          "base_uri": "https://localhost:8080/"
        },
        "id": "NB5kHCiRKNK-",
        "outputId": "9fb361e1-12dc-4e1a-b993-96fab570cd93"
      },
      "outputs": [
        {
          "name": "stdout",
          "output_type": "stream",
          "text": [
            "penjumlahan\n",
            "9\n",
            "pengurangan\n",
            "-13\n",
            "perkalian\n",
            "18\n",
            "pembagian\n",
            "5.333333333333333\n",
            "modulus\n",
            "3\n",
            "pembagian flooring\n",
            "5\n",
            "perpangkatan\n",
            "27\n"
          ]
        }
      ],
      "source": [
        "##Operator assignment\n",
        "print('penjumlahan')\n",
        "x=3\n",
        "x=x+6\n",
        "print(x)\n",
        "print('pengurangan')\n",
        "x=3\n",
        "x=x-16\n",
        "print(x)\n",
        "print('perkalian')\n",
        "x=3\n",
        "x=x*6\n",
        "print(x)\n",
        "print('pembagian')\n",
        "x=16\n",
        "x=x/3\n",
        "print(x)\n",
        "print('modulus')\n",
        "x=3\n",
        "x=x%16\n",
        "print(x)\n",
        "print('pembagian flooring')\n",
        "x=16\n",
        "x=x//3\n",
        "print(x)\n",
        "print('perpangkatan')\n",
        "x=3\n",
        "x=x**3\n",
        "print(x)"
      ]
    },
    {
      "cell_type": "code",
      "execution_count": null,
      "metadata": {
        "colab": {
          "base_uri": "https://localhost:8080/"
        },
        "id": "uIbARxl9Nb1F",
        "outputId": "4e8290ba-4882-47bc-eeaa-dae1f3f16e87"
      },
      "outputs": [
        {
          "name": "stdout",
          "output_type": "stream",
          "text": [
            "True\n",
            "False\n",
            "False\n",
            "True\n",
            "True\n",
            "True\n"
          ]
        }
      ],
      "source": [
        "##Operator pembanding\n",
        "print(3==3)\n",
        "print(6!=6)\n",
        "print(3>6)\n",
        "print(3<6)\n",
        "print(3>=3)\n",
        "print(6<=6)"
      ]
    },
    {
      "cell_type": "code",
      "execution_count": null,
      "metadata": {
        "colab": {
          "base_uri": "https://localhost:8080/"
        },
        "id": "dkUyDbL2OPlQ",
        "outputId": "a2c07e3e-e44f-43e4-a185-f974fe499f74"
      },
      "outputs": [
        {
          "name": "stdout",
          "output_type": "stream",
          "text": [
            "False\n",
            "False\n",
            "True\n"
          ]
        }
      ],
      "source": [
        "##Operator logika\n",
        "print(True and False)\n",
        "print(False or False)\n",
        "print(not False and True)"
      ]
    },
    {
      "cell_type": "code",
      "execution_count": null,
      "metadata": {
        "colab": {
          "base_uri": "https://localhost:8080/"
        },
        "id": "pbNgSA4xPXBF",
        "outputId": "c0ec8523-e230-440f-834f-ade91f9a5f75"
      },
      "outputs": [
        {
          "name": "stdout",
          "output_type": "stream",
          "text": [
            "True\n",
            "True\n"
          ]
        }
      ],
      "source": [
        "##Operator keanggotaan\n",
        "d=(3,5,6,16,24)\n",
        "c=3\n",
        "print(c in d)\n",
        "r=(3,5,6,16,24)\n",
        "d=1\n",
        "print(d not in r)\n"
      ]
    },
    {
      "cell_type": "code",
      "execution_count": 1,
      "metadata": {
        "colab": {
          "base_uri": "https://localhost:8080/"
        },
        "id": "DsRb8mxrQoaO",
        "outputId": "9587de8c-396b-4407-9f85-48433a37526c"
      },
      "outputs": [
        {
          "name": "stdout",
          "output_type": "stream",
          "text": [
            "coba kalimat\n",
            "3\n",
            "3.16\n",
            "True\n",
            "(6+3j)\n"
          ]
        }
      ],
      "source": [
        "##Variabel\n",
        "kalimat='coba kalimat'\n",
        "bil1=3\n",
        "bil2=3.16\n",
        "bil3=True\n",
        "bil4=3j+6\n",
        "print(kalimat)\n",
        "print(bil1)\n",
        "print(bil2)\n",
        "print(bil3)\n",
        "print(bil4)"
      ]
    },
    {
      "cell_type": "code",
      "execution_count": null,
      "metadata": {
        "colab": {
          "base_uri": "https://localhost:8080/"
        },
        "id": "b52s-9gNRhLK",
        "outputId": "1503086d-898f-4726-a128-2863687f02a8"
      },
      "outputs": [
        {
          "name": "stdout",
          "output_type": "stream",
          "text": [
            "<class 'str'>\n",
            "<class 'int'>\n",
            "<class 'float'>\n",
            "<class 'bool'>\n",
            "<class 'complex'>\n"
          ]
        }
      ],
      "source": [
        "##Tipe data\n",
        "print(type(kalimat))\n",
        "print(type(bil1))\n",
        "print(type(bil2))\n",
        "print(type(bil3))\n",
        "print(type(bil4))\n"
      ]
    },
    {
      "cell_type": "code",
      "execution_count": null,
      "metadata": {
        "colab": {
          "base_uri": "https://localhost:8080/"
        },
        "id": "7h6ejGnBSL8r",
        "outputId": "fd91e4a3-081d-4fb4-d06e-2b82cbb97531"
      },
      "outputs": [
        {
          "name": "stdout",
          "output_type": "stream",
          "text": [
            "3\n",
            "1\n",
            "3.0\n",
            "1.0\n",
            "True\n",
            "(6+3j)\n",
            "True\n",
            "True\n",
            "(3+0j)\n",
            "(1+0j)\n"
          ]
        }
      ],
      "source": [
        "##Konversi tipe data\n",
        "print(int(bil2))\n",
        "print(int(bil3))\n",
        "print(float(bil1))\n",
        "print(float(bil3))\n",
        "print(str(bil3))\n",
        "print(str(bil4))\n",
        "print(bool(bil2))\n",
        "print(bool(bil4))\n",
        "print(complex(bil1))\n",
        "print(complex(bil3))"
      ]
    },
    {
      "cell_type": "code",
      "execution_count": null,
      "metadata": {
        "id": "D4Q7OAZJTvOy"
      },
      "outputs": [],
      "source": []
    }
  ],
  "metadata": {
    "colab": {
      "provenance": []
    },
    "kernelspec": {
      "display_name": "Python 3",
      "name": "python3"
    },
    "language_info": {
      "codemirror_mode": {
        "name": "ipython",
        "version": 3
      },
      "file_extension": ".py",
      "mimetype": "text/x-python",
      "name": "python",
      "nbconvert_exporter": "python",
      "pygments_lexer": "ipython3",
      "version": "3.11.2"
    }
  },
  "nbformat": 4,
  "nbformat_minor": 0
}
