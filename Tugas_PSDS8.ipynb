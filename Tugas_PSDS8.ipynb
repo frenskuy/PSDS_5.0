{
  "nbformat": 4,
  "nbformat_minor": 0,
  "metadata": {
    "colab": {
      "provenance": []
    },
    "kernelspec": {
      "name": "python3",
      "display_name": "Python 3"
    },
    "language_info": {
      "name": "python"
    }
  },
  "cells": [
    {
      "cell_type": "code",
      "execution_count": null,
      "metadata": {
        "colab": {
          "base_uri": "https://localhost:8080/"
        },
        "id": "v_T5EHz3Xahq",
        "outputId": "ec2bbd30-041c-4a39-c39f-3cdfea714673"
      },
      "outputs": [
        {
          "output_type": "stream",
          "name": "stdout",
          "text": [
            "data setelah ditambahkan elemennya:  [1, 'dua', True, (2+3j), 20]\n",
            "data setelah dihapus elemenanya:  [1, 'dua', True, 20]\n"
          ]
        }
      ],
      "source": [
        "L1=[1,4,2,13]\n",
        "\n",
        "L1 = [1, \"dua\", True, 2+3j]\n",
        "L1.append(20)\n",
        "print(\"data setelah ditambahkan elemennya: \", L1)\n",
        "\n",
        "L1.remove(2+3j)\n",
        "print('data setelah dihapus elemenanya: ', L1)"
      ]
    },
    {
      "cell_type": "code",
      "source": [
        "L1 = [1, \"dua\", True, 2+3j]\n",
        "L1.extend('ape12')\n",
        "print(L1)"
      ],
      "metadata": {
        "colab": {
          "base_uri": "https://localhost:8080/"
        },
        "id": "Cdtk1Q5XaUkk",
        "outputId": "29098579-c416-498c-8a46-a0b22f991389"
      },
      "execution_count": null,
      "outputs": [
        {
          "output_type": "stream",
          "name": "stdout",
          "text": [
            "[1, 'dua', True, (2+3j), 'a', 'p', 'e', '1', '2']\n"
          ]
        }
      ]
    },
    {
      "cell_type": "code",
      "source": [
        "L1 = [1, \"dua\", True, 2+3j]\n",
        "L1.insert(2,\"dddddddd\")\n",
        "print(L1)"
      ],
      "metadata": {
        "colab": {
          "base_uri": "https://localhost:8080/"
        },
        "id": "LQBDKzrnau-1",
        "outputId": "6ede25ae-cd64-436e-d6ac-f4188fe09ce5"
      },
      "execution_count": null,
      "outputs": [
        {
          "output_type": "stream",
          "name": "stdout",
          "text": [
            "[1, 'dua', 'dddddddd', True, (2+3j)]\n"
          ]
        }
      ]
    },
    {
      "cell_type": "code",
      "source": [
        "L1 = [1, \"dua\", True, 2+3j]\n",
        "L1.pop()\n",
        "print(L1)"
      ],
      "metadata": {
        "colab": {
          "base_uri": "https://localhost:8080/"
        },
        "id": "xOi8ttdXbEId",
        "outputId": "1cffc5c5-7317-44a4-b8c8-834b0a953aa2"
      },
      "execution_count": null,
      "outputs": [
        {
          "output_type": "stream",
          "name": "stdout",
          "text": [
            "['dua', True, (2+3j)]\n"
          ]
        }
      ]
    },
    {
      "cell_type": "code",
      "source": [
        "A=[1,3,'Frenky','mangga',7]\n",
        "print(A)\n",
        "\n",
        "A.extend(['ape12'])\n",
        "print(A)\n",
        "\n",
        "A.insert(3,'apel')\n",
        "print(A)\n",
        "\n",
        "A.pop()\n",
        "print(A)\n",
        "\n",
        "A.extend('ape12')\n",
        "print(A)\n",
        "\n",
        "A.remove('Frenky')\n",
        "print(A)"
      ],
      "metadata": {
        "colab": {
          "base_uri": "https://localhost:8080/"
        },
        "id": "BXjmwZ8ObUFH",
        "outputId": "eb57391a-bc70-499d-a753-85b71706e480"
      },
      "execution_count": null,
      "outputs": [
        {
          "output_type": "stream",
          "name": "stdout",
          "text": [
            "[1, 3, 'Frenky', 'mangga', 7]\n",
            "[1, 3, 'Frenky', 'mangga', 7, 'ape12']\n",
            "[1, 3, 'Frenky', 'apel', 'mangga', 7, 'ape12']\n",
            "[1, 3, 'Frenky', 'apel', 'mangga', 7]\n",
            "[1, 3, 'Frenky', 'apel', 'mangga', 7, 'a', 'p', 'e', '1', '2']\n",
            "[1, 3, 'apel', 'mangga', 7, 'a', 'p', 'e', '1', '2']\n"
          ]
        }
      ]
    },
    {
      "cell_type": "code",
      "source": [
        "#contoh tuple\n",
        "T1 = (1,'dua', True, 1+2j)\n",
        "print('ini adalah tuple',T1)"
      ],
      "metadata": {
        "colab": {
          "base_uri": "https://localhost:8080/"
        },
        "id": "ngVzRIfK0AKC",
        "outputId": "733595ee-0fa7-4240-8c24-5f57e666a2d2"
      },
      "execution_count": 1,
      "outputs": [
        {
          "output_type": "stream",
          "name": "stdout",
          "text": [
            "ini adalah tuple (1, 'dua', True, (1+2j))\n"
          ]
        }
      ]
    },
    {
      "cell_type": "code",
      "source": [
        "type(T1)"
      ],
      "metadata": {
        "colab": {
          "base_uri": "https://localhost:8080/"
        },
        "id": "abl-NZhq0tO8",
        "outputId": "482724a0-d2a6-4352-ed4a-0d772b4a7539"
      },
      "execution_count": 2,
      "outputs": [
        {
          "output_type": "execute_result",
          "data": {
            "text/plain": [
              "tuple"
            ]
          },
          "metadata": {},
          "execution_count": 2
        }
      ]
    },
    {
      "cell_type": "code",
      "source": [
        "T1[0:3]"
      ],
      "metadata": {
        "colab": {
          "base_uri": "https://localhost:8080/"
        },
        "id": "w6WoH5750wzC",
        "outputId": "f6cc8668-0f75-48a8-ced8-0b8e57dee63f"
      },
      "execution_count": 3,
      "outputs": [
        {
          "output_type": "execute_result",
          "data": {
            "text/plain": [
              "(1, 'dua', True)"
            ]
          },
          "metadata": {},
          "execution_count": 3
        }
      ]
    },
    {
      "cell_type": "code",
      "source": [
        "print('elemen ketiga adalah: ',T1[3])"
      ],
      "metadata": {
        "colab": {
          "base_uri": "https://localhost:8080/"
        },
        "id": "V4Yl1qfU05H1",
        "outputId": "f0883730-96a7-479e-d800-eeb676acb8c3"
      },
      "execution_count": 4,
      "outputs": [
        {
          "output_type": "stream",
          "name": "stdout",
          "text": [
            "elemen ketiga adalah:  (1+2j)\n"
          ]
        }
      ]
    },
    {
      "cell_type": "code",
      "source": [
        "T2 = (3, 2.4, True, 2.3)\n",
        "T2"
      ],
      "metadata": {
        "colab": {
          "base_uri": "https://localhost:8080/"
        },
        "id": "1F7rHXOy1Nzh",
        "outputId": "b4ed525a-dbc9-4b68-eca9-f49df18a7ac9"
      },
      "execution_count": 5,
      "outputs": [
        {
          "output_type": "execute_result",
          "data": {
            "text/plain": [
              "(3, 2.4, True, 2.3)"
            ]
          },
          "metadata": {},
          "execution_count": 5
        }
      ]
    },
    {
      "cell_type": "code",
      "source": [
        "T1\n",
        "print(f'  tuple\\t: {T1}')"
      ],
      "metadata": {
        "colab": {
          "base_uri": "https://localhost:8080/"
        },
        "id": "635rgAvR1civ",
        "outputId": "4d3d1afd-e6db-45eb-e64e-50fae5d5acd6"
      },
      "execution_count": 7,
      "outputs": [
        {
          "output_type": "stream",
          "name": "stdout",
          "text": [
            "  tuple\t: (1, 'dua', True, (1+2j))\n"
          ]
        }
      ]
    },
    {
      "cell_type": "code",
      "source": [
        "T3 = T1 + T2\n",
        "T3"
      ],
      "metadata": {
        "colab": {
          "base_uri": "https://localhost:8080/"
        },
        "id": "UffTjahf2G5E",
        "outputId": "f826a7e2-e7ea-45d9-a69d-a3d9758fc362"
      },
      "execution_count": 11,
      "outputs": [
        {
          "output_type": "execute_result",
          "data": {
            "text/plain": [
              "(1, 'dua', True, (1+2j), 3, 2.4, True, 2.3)"
            ]
          },
          "metadata": {},
          "execution_count": 11
        }
      ]
    },
    {
      "cell_type": "code",
      "source": [
        "B1 = (3, 4.2, 'tiga', 8.9)\n",
        "B1"
      ],
      "metadata": {
        "colab": {
          "base_uri": "https://localhost:8080/"
        },
        "id": "tNEDF3gy2bye",
        "outputId": "1366b862-af9f-4889-ca6d-93dd56c5ef8a"
      },
      "execution_count": 15,
      "outputs": [
        {
          "output_type": "execute_result",
          "data": {
            "text/plain": [
              "(3, 4.2, 'tiga', 8.9)"
            ]
          },
          "metadata": {},
          "execution_count": 15
        }
      ]
    },
    {
      "cell_type": "code",
      "source": [
        "B2 = (4, 'enam', False)\n",
        "B2"
      ],
      "metadata": {
        "colab": {
          "base_uri": "https://localhost:8080/"
        },
        "id": "ph0qYngM21io",
        "outputId": "b77272a3-3b53-4b4b-a80f-f60744423f18"
      },
      "execution_count": 16,
      "outputs": [
        {
          "output_type": "execute_result",
          "data": {
            "text/plain": [
              "(4, 'enam', False)"
            ]
          },
          "metadata": {},
          "execution_count": 16
        }
      ]
    },
    {
      "cell_type": "code",
      "source": [
        "B3 = B2+B1\n",
        "B3"
      ],
      "metadata": {
        "colab": {
          "base_uri": "https://localhost:8080/"
        },
        "id": "cXnYtObz24vl",
        "outputId": "9baa388d-abe5-40da-bff0-049760750463"
      },
      "execution_count": 17,
      "outputs": [
        {
          "output_type": "execute_result",
          "data": {
            "text/plain": [
              "(4, 'enam', False, 3, 4.2, 'tiga', 8.9)"
            ]
          },
          "metadata": {},
          "execution_count": 17
        }
      ]
    }
  ]
}